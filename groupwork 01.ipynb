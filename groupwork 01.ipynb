{
 "cells": [
  {
   "cell_type": "code",
   "execution_count": 30,
   "metadata": {},
   "outputs": [
    {
     "name": "stdout",
     "output_type": "stream",
     "text": [
      "李\n唐\n郑\n彭\n董\n殷\n彭\n袁\n"
     ]
    }
   ],
   "source": [
    "'''1、使用字符串填写组员名字，放进列表，打印大家的姓。'''\n",
    "name=[]\n",
    "set=()\n",
    "str1=\"李俊达\"\n",
    "str2=\"唐堃智\"\n",
    "str3=\"郑伊婷\"\n",
    "str4=\"彭宇志\"\n",
    "str5=\"董泽浩\"\n",
    "str6=\"殷广泽\"\n",
    "str7=\"彭扬泎\"\n",
    "str8=\"袁绮蔓\"\n",
    "name.append(str1)\n",
    "name.append(str2)\n",
    "name.append(str3)\n",
    "name.append(str4)\n",
    "name.append(str5)\n",
    "name.append(str6)\n",
    "name.append(str7)\n",
    "name.append(str8)\n",
    "for i in range(8):\n",
    "    print (name[i][0])"
   ]
  },
  {
   "cell_type": "code",
   "execution_count": 31,
   "metadata": {
    "collapsed": true
   },
   "outputs": [
    {
     "data": {
      "text/plain": [
       "['dancing',\n 'listening to music',\n 'traveling',\n 'eating',\n 'movie',\n 'hiking',\n 'cooking']"
      ]
     },
     "execution_count": 31,
     "metadata": {},
     "output_type": "execute_result"
    }
   ],
   "source": [
    "'''2、\n",
    "a.用列表记录所有组员的兴趣特长\n",
    "b.再添加自己的兴趣特长在列表中\n",
    "c.删除第一个兴趣，打印出最终列表结果'''\n",
    "hobby=[\"singing\",\"dancing\",\"listening to music\",\"traveling\",\"eating\",\"movie\",\"hiking\"]\n",
    "hobby.append(\"cooking\")\n",
    "hobby=hobby[1:] \n",
    "hobby"
   ]
  },
  {
   "cell_type": "code",
   "execution_count": 32,
   "metadata": {},
   "outputs": [
    {
     "name": "stdout",
     "output_type": "stream",
     "text": [
      "[90, 100, 20, 30, 50, 20, 40, 70]\n"
     ]
    }
   ],
   "source": [
    "'''4、 将组员们的晚餐预算存入列表中，并将列表打印出来'''\n",
    "budget=[90,100,20,30,50,20,40,70]\n",
    "print(budget)"
   ]
  },
  {
   "cell_type": "code",
   "execution_count": 35,
   "metadata": {},
   "outputs": [
    {
     "data": {
      "text/plain": [
       "52.5"
      ]
     },
     "execution_count": 35,
     "metadata": {},
     "output_type": "execute_result"
    }
   ],
   "source": [
    "'''5、定义一个方法求组员们晚餐预算的均值'''\n",
    "def function_mean(budget,n):\n",
    "    return(sum(budget)/n)\n",
    "\n",
    "function_mean(budget,8)"
   ]
  },
  {
   "cell_type": "code",
   "execution_count": 56,
   "metadata": {},
   "outputs": [
    {
     "name": "stdout",
     "output_type": "stream",
     "text": [
      "李\n唐\n郑\n彭\n董\n殷\n彭\n袁\n['李', '唐', '郑', '彭', '董', '殷', '彭', '袁']\n"
     ]
    }
   ],
   "source": [
    "'''6、在晚饭前，你学习了python流程控制这个内容，\n",
    "此时组长要检验你的学习成果。\n",
    "a.将组员名字放进列表\n",
    "b.用循环打印大家的姓\n",
    "c.用set去除有重复的姓'''\n",
    "\n",
    "name=[\"李俊达\",\"唐堃智\",\"郑伊婷\",\"彭宇志\",\"董泽浩\",\"殷广泽\",\"彭扬泎\",\"袁绮蔓\"]\n",
    "first_name=[]\n",
    "for i in range(len(name)):\n",
    "    print(name[i][0])\n",
    "    first_name.append(name[i][0])\n",
    "print(first_name)"
   ]
  },
  {
   "cell_type": "code",
   "execution_count": 37,
   "metadata": {},
   "outputs": [],
   "source": [
    "'''创建一个嵌套字典，记录组员的组别、姓名、性别、邮箱、兴趣，晚餐预算费用，\n",
    "并打印组员名字和晚餐预算费用出来\n",
    "group、gender、email_github、interest、budget'''\n",
    "group_members = {\n",
    "    '李俊达':{'group':'three','gender':'male','email':'123456@163.com','interest':'basketball','budget':90},\n",
    "    '唐堃智':{'group':'three','gender':'male','email':'123456@163.com','interest':'basketball','budget':80},\n",
    "    '郑伊婷':{'group':'three','gender':'female','email':'123456@163.com','interest':'basketball','budget':70},\n",
    "    '彭宇志':{'group':'three','gender':'male','email':'123456@163.com','interest':'basketball','budget':90},\n",
    "    '董泽浩':{'group':'three','gender':'male','email':'123456@163.com','interest':'basketball','budget':90},\n",
    "    '殷广泽':{'group':'three','gender':'male','email':'123456@163.com','interest':'basketball','budget':90},\n",
    "    '彭扬泎':{'group':'three','gender':'female','email':'123456@163.com','interest':'basketball','budget':90},\n",
    "    '袁绮蔓':{'group':'three','gender':'female','email':'123456@163.com','interest':'basketball','budget':70}\n",
    "}\n"
   ]
  },
  {
   "cell_type": "code",
   "execution_count": 38,
   "metadata": {},
   "outputs": [
    {
     "name": "stdout",
     "output_type": "stream",
     "text": [
      "\ngroup_member:李俊达\n\tbudget:90\n\n\n\ngroup_member:唐堃智\n\tbudget:80\n\n\n\ngroup_member:郑伊婷\n\tbudget:70\n\n\n\ngroup_member:彭宇志\n\tbudget:90\n\n\n\ngroup_member:董泽浩\n\tbudget:90\n\n\n\ngroup_member:殷广泽\n\tbudget:90\n\n\n\ngroup_member:彭扬泎\n\tbudget:90\n\n\n\ngroup_member:袁绮蔓\n\tbudget:70\n\n\n"
     ]
    }
   ],
   "source": [
    "for group_member,characts in group_members.items():\n",
    "    print(\"\\ngroup_member:\"+group_member)\n",
    "    print(\"\\tbudget:\"+ str(characts['budget']))\n",
    "    print(\"\\n\")"
   ]
  }
 ],
 "metadata": {
  "kernelspec": {
   "display_name": "Python 2",
   "language": "python",
   "name": "python2"
  },
  "language_info": {
   "codemirror_mode": {
    "name": "ipython",
    "version": 2
   },
   "file_extension": ".py",
   "mimetype": "text/x-python",
   "name": "python",
   "nbconvert_exporter": "python",
   "pygments_lexer": "ipython2",
   "version": "2.7.6"
  }
 },
 "nbformat": 4,
 "nbformat_minor": 0
}
